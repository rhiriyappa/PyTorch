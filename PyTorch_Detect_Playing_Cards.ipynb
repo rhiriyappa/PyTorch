{
  "nbformat": 4,
  "nbformat_minor": 0,
  "metadata": {
    "colab": {
      "provenance": [],
      "mount_file_id": "13UJfJNj3n1-3oHP-tqahGseWG6ENnDD8",
      "authorship_tag": "ABX9TyNTqz9Xslwj3KS8tCHGn9R0",
      "include_colab_link": true
    },
    "kernelspec": {
      "name": "python3",
      "display_name": "Python 3"
    },
    "language_info": {
      "name": "python"
    }
  },
  "cells": [
    {
      "cell_type": "markdown",
      "metadata": {
        "id": "view-in-github",
        "colab_type": "text"
      },
      "source": [
        "<a href=\"https://colab.research.google.com/github/rhiriyappa/PyTorch/blob/main/PyTorch_Detect_Playing_Cards.ipynb\" target=\"_parent\"><img src=\"https://colab.research.google.com/assets/colab-badge.svg\" alt=\"Open In Colab\"/></a>"
      ]
    },
    {
      "cell_type": "markdown",
      "source": [
        "### Train Your Very First Pytorch Model!\n",
        "Let's learn through doing.\n",
        "\n",
        "In this notebook we will create an image classifier to detect playing cards.\n",
        "\n",
        "We will tackle this problem in 3 parts:\n",
        "\n",
        "1. Pytorch Dataset\n",
        "2. Pytorch Model\n",
        "3. Pytorch Training Loop\n",
        "\n",
        "Almost every pytorch model training pipeline meets this paradigm.\n",
        "\n"
      ],
      "metadata": {
        "id": "Ggy0P-FRJLL-"
      }
    },
    {
      "cell_type": "code",
      "execution_count": 1,
      "metadata": {
        "id": "xAYE_UAK6tlk",
        "colab": {
          "base_uri": "https://localhost:8080/"
        },
        "outputId": "bc87253b-5760-4cff-d705-067961862000"
      },
      "outputs": [
        {
          "output_type": "stream",
          "name": "stdout",
          "text": [
            "System Version: 3.12.11 (main, Jun  4 2025, 08:56:18) [GCC 11.4.0]\n",
            "PyTorch version 2.8.0+cu126\n",
            "Torchvision version 0.23.0+cu126\n",
            "Numpy version 2.0.2\n",
            "Pandas version 2.2.2\n"
          ]
        }
      ],
      "source": [
        "import torch\n",
        "import torch.nn as nn\n",
        "import torch.optim as optim\n",
        "from torch.utils.data import Dataset, DataLoader\n",
        "import torchvision\n",
        "import torchvision.transforms as transforms\n",
        "from torchvision.datasets import ImageFolder\n",
        "import timm\n",
        "\n",
        "import matplotlib.pyplot as plt # For data viz\n",
        "import pandas as pd\n",
        "import numpy as np\n",
        "import sys\n",
        "from tqdm.notebook import tqdm\n",
        "\n",
        "print('System Version:', sys.version)\n",
        "print('PyTorch version', torch.__version__)\n",
        "print('Torchvision version', torchvision.__version__)\n",
        "print('Numpy version', np.__version__)\n",
        "print('Pandas version', pd.__version__)"
      ]
    },
    {
      "cell_type": "markdown",
      "source": [
        "### Step 1. Pytorch Dataset (and Dataloader)\n",
        "Would you learn how to bake a cake without first having the ingredients? No.\n",
        "\n",
        "The same thing can be said for training a pytorch model without first having the dataset setup correctly.\n",
        "\n",
        "This is why datasets are important:\n",
        "\n",
        "* It's an organized way to structure how the data and labels are loaded into the model.\n",
        "* We can then wrap the dataset in a dataloader and pytorch will handle batching the shuffling the data for us when training the model!"
      ],
      "metadata": {
        "id": "vl_wjCSqRDiw"
      }
    },
    {
      "cell_type": "code",
      "source": [
        "class PlayingCardDataset(Dataset):\n",
        "    def __init__(self, data_dir, transform=None):\n",
        "        self.data = ImageFolder(data_dir, transform=transform)\n",
        "\n",
        "    def __len__(self):\n",
        "        return len(self.data)\n",
        "\n",
        "    def __getitem__(self, idx):\n",
        "        return self.data[idx]\n",
        "\n",
        "    @property\n",
        "    def classes(self):\n",
        "        return self.data.classes"
      ],
      "metadata": {
        "id": "qOEXfNI0RP4r"
      },
      "execution_count": 2,
      "outputs": []
    }
  ]
}